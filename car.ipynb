{
 "cells": [
  {
   "cell_type": "code",
   "execution_count": 98,
   "metadata": {},
   "outputs": [],
   "source": [
    "import pandas as pd\n",
    "import numpy as np\n",
    "import matplotlib.pyplot as plt\n",
    "import seaborn as sns\n",
    "import mysql.connector as conn\n",
    "import sqlalchemy\n",
    "from sqlalchemy import create_engine\n",
    "from sqlalchemy.engine import URL\n"
   ]
  },
  {
   "cell_type": "code",
   "execution_count": 3,
   "metadata": {},
   "outputs": [
    {
     "data": {
      "text/html": [
       "<div>\n",
       "<style scoped>\n",
       "    .dataframe tbody tr th:only-of-type {\n",
       "        vertical-align: middle;\n",
       "    }\n",
       "\n",
       "    .dataframe tbody tr th {\n",
       "        vertical-align: top;\n",
       "    }\n",
       "\n",
       "    .dataframe thead th {\n",
       "        text-align: right;\n",
       "    }\n",
       "</style>\n",
       "<table border=\"1\" class=\"dataframe\">\n",
       "  <thead>\n",
       "    <tr style=\"text-align: right;\">\n",
       "      <th></th>\n",
       "      <th>Unnamed: 0</th>\n",
       "      <th>Company Name</th>\n",
       "      <th>Model Name</th>\n",
       "      <th>Price</th>\n",
       "      <th>Model Year</th>\n",
       "      <th>Location</th>\n",
       "      <th>Mileage</th>\n",
       "      <th>Engine Type</th>\n",
       "      <th>Engine Capacity</th>\n",
       "      <th>Color</th>\n",
       "      <th>Assembly</th>\n",
       "      <th>Body Type</th>\n",
       "      <th>Transmission Type</th>\n",
       "      <th>Registration Status</th>\n",
       "    </tr>\n",
       "  </thead>\n",
       "  <tbody>\n",
       "    <tr>\n",
       "      <th>0</th>\n",
       "      <td>0</td>\n",
       "      <td>Toyota</td>\n",
       "      <td>Vitz</td>\n",
       "      <td>2385000</td>\n",
       "      <td>2017</td>\n",
       "      <td>Islamabad</td>\n",
       "      <td>9869</td>\n",
       "      <td>Petrol</td>\n",
       "      <td>1000</td>\n",
       "      <td>Silver</td>\n",
       "      <td>Imported</td>\n",
       "      <td>Hatchback</td>\n",
       "      <td>Automatic</td>\n",
       "      <td>Un-Registered</td>\n",
       "    </tr>\n",
       "    <tr>\n",
       "      <th>1</th>\n",
       "      <td>1</td>\n",
       "      <td>Toyota</td>\n",
       "      <td>Corolla</td>\n",
       "      <td>111000</td>\n",
       "      <td>2019</td>\n",
       "      <td>KPK</td>\n",
       "      <td>11111</td>\n",
       "      <td>Petrol</td>\n",
       "      <td>1300</td>\n",
       "      <td>White</td>\n",
       "      <td>Local</td>\n",
       "      <td>Sedan</td>\n",
       "      <td>Automatic</td>\n",
       "      <td>Registered</td>\n",
       "    </tr>\n",
       "    <tr>\n",
       "      <th>2</th>\n",
       "      <td>2</td>\n",
       "      <td>Suzuki</td>\n",
       "      <td>Alto</td>\n",
       "      <td>1530000</td>\n",
       "      <td>2019</td>\n",
       "      <td>KPK</td>\n",
       "      <td>17500</td>\n",
       "      <td>Petrol</td>\n",
       "      <td>660</td>\n",
       "      <td>White</td>\n",
       "      <td>Local</td>\n",
       "      <td>Hatchback</td>\n",
       "      <td>Automatic</td>\n",
       "      <td>Un-Registered</td>\n",
       "    </tr>\n",
       "    <tr>\n",
       "      <th>3</th>\n",
       "      <td>3</td>\n",
       "      <td>Suzuki</td>\n",
       "      <td>Alto</td>\n",
       "      <td>1650000</td>\n",
       "      <td>2019</td>\n",
       "      <td>Punjab</td>\n",
       "      <td>9600</td>\n",
       "      <td>Petrol</td>\n",
       "      <td>660</td>\n",
       "      <td>White</td>\n",
       "      <td>Local</td>\n",
       "      <td>Hatchback</td>\n",
       "      <td>Manual</td>\n",
       "      <td>Registered</td>\n",
       "    </tr>\n",
       "    <tr>\n",
       "      <th>4</th>\n",
       "      <td>4</td>\n",
       "      <td>Toyota</td>\n",
       "      <td>Corolla</td>\n",
       "      <td>1435000</td>\n",
       "      <td>2010</td>\n",
       "      <td>Islamabad</td>\n",
       "      <td>120000</td>\n",
       "      <td>Petrol</td>\n",
       "      <td>1300</td>\n",
       "      <td>Black</td>\n",
       "      <td>Local</td>\n",
       "      <td>Sedan</td>\n",
       "      <td>Manual</td>\n",
       "      <td>Registered</td>\n",
       "    </tr>\n",
       "    <tr>\n",
       "      <th>...</th>\n",
       "      <td>...</td>\n",
       "      <td>...</td>\n",
       "      <td>...</td>\n",
       "      <td>...</td>\n",
       "      <td>...</td>\n",
       "      <td>...</td>\n",
       "      <td>...</td>\n",
       "      <td>...</td>\n",
       "      <td>...</td>\n",
       "      <td>...</td>\n",
       "      <td>...</td>\n",
       "      <td>...</td>\n",
       "      <td>...</td>\n",
       "      <td>...</td>\n",
       "    </tr>\n",
       "    <tr>\n",
       "      <th>46017</th>\n",
       "      <td>46018</td>\n",
       "      <td>Honda</td>\n",
       "      <td>Vezel</td>\n",
       "      <td>3400000</td>\n",
       "      <td>2015</td>\n",
       "      <td>Punjab</td>\n",
       "      <td>32000</td>\n",
       "      <td>Petrol</td>\n",
       "      <td>1500</td>\n",
       "      <td>Black</td>\n",
       "      <td>Imported</td>\n",
       "      <td>Cross Over</td>\n",
       "      <td>Automatic</td>\n",
       "      <td>Un-Registered</td>\n",
       "    </tr>\n",
       "    <tr>\n",
       "      <th>46018</th>\n",
       "      <td>46019</td>\n",
       "      <td>Toyota</td>\n",
       "      <td>Aqua</td>\n",
       "      <td>2450000</td>\n",
       "      <td>2015</td>\n",
       "      <td>Punjab</td>\n",
       "      <td>52000</td>\n",
       "      <td>Petrol</td>\n",
       "      <td>1500</td>\n",
       "      <td>Blue</td>\n",
       "      <td>Imported</td>\n",
       "      <td>Hatchback</td>\n",
       "      <td>Automatic</td>\n",
       "      <td>Un-Registered</td>\n",
       "    </tr>\n",
       "    <tr>\n",
       "      <th>46019</th>\n",
       "      <td>46020</td>\n",
       "      <td>Honda</td>\n",
       "      <td>Civic</td>\n",
       "      <td>3250000</td>\n",
       "      <td>2015</td>\n",
       "      <td>Punjab</td>\n",
       "      <td>125000</td>\n",
       "      <td>Petrol</td>\n",
       "      <td>1800</td>\n",
       "      <td>Black</td>\n",
       "      <td>Local</td>\n",
       "      <td>Sedan</td>\n",
       "      <td>Automatic</td>\n",
       "      <td>Registered</td>\n",
       "    </tr>\n",
       "    <tr>\n",
       "      <th>46020</th>\n",
       "      <td>46021</td>\n",
       "      <td>Toyota</td>\n",
       "      <td>Aqua</td>\n",
       "      <td>3000000</td>\n",
       "      <td>2016</td>\n",
       "      <td>Punjab</td>\n",
       "      <td>60000</td>\n",
       "      <td>Petrol</td>\n",
       "      <td>1500</td>\n",
       "      <td>Black</td>\n",
       "      <td>Imported</td>\n",
       "      <td>Hatchback</td>\n",
       "      <td>Automatic</td>\n",
       "      <td>Registered</td>\n",
       "    </tr>\n",
       "    <tr>\n",
       "      <th>46021</th>\n",
       "      <td>46022</td>\n",
       "      <td>Toyota</td>\n",
       "      <td>Corolla</td>\n",
       "      <td>2250000</td>\n",
       "      <td>2015</td>\n",
       "      <td>Punjab</td>\n",
       "      <td>77000</td>\n",
       "      <td>Petrol</td>\n",
       "      <td>1300</td>\n",
       "      <td>Assembly</td>\n",
       "      <td>Local</td>\n",
       "      <td>Sedan</td>\n",
       "      <td>Automatic</td>\n",
       "      <td>Registered</td>\n",
       "    </tr>\n",
       "  </tbody>\n",
       "</table>\n",
       "<p>46022 rows × 14 columns</p>\n",
       "</div>"
      ],
      "text/plain": [
       "       Unnamed: 0 Company Name Model Name    Price  Model Year   Location  \\\n",
       "0               0       Toyota       Vitz  2385000        2017  Islamabad   \n",
       "1               1       Toyota    Corolla   111000        2019        KPK   \n",
       "2               2       Suzuki       Alto  1530000        2019        KPK   \n",
       "3               3       Suzuki       Alto  1650000        2019     Punjab   \n",
       "4               4       Toyota    Corolla  1435000        2010  Islamabad   \n",
       "...           ...          ...        ...      ...         ...        ...   \n",
       "46017       46018        Honda      Vezel  3400000        2015     Punjab   \n",
       "46018       46019       Toyota       Aqua  2450000        2015     Punjab   \n",
       "46019       46020        Honda      Civic  3250000        2015     Punjab   \n",
       "46020       46021       Toyota       Aqua  3000000        2016     Punjab   \n",
       "46021       46022       Toyota    Corolla  2250000        2015     Punjab   \n",
       "\n",
       "       Mileage Engine Type  Engine Capacity     Color  Assembly   Body Type  \\\n",
       "0         9869      Petrol             1000    Silver  Imported   Hatchback   \n",
       "1        11111      Petrol             1300     White     Local       Sedan   \n",
       "2        17500      Petrol              660     White     Local   Hatchback   \n",
       "3         9600      Petrol              660     White     Local   Hatchback   \n",
       "4       120000      Petrol             1300     Black     Local       Sedan   \n",
       "...        ...         ...              ...       ...       ...         ...   \n",
       "46017    32000      Petrol             1500     Black  Imported  Cross Over   \n",
       "46018    52000      Petrol             1500      Blue  Imported   Hatchback   \n",
       "46019   125000      Petrol             1800     Black     Local       Sedan   \n",
       "46020    60000      Petrol             1500     Black  Imported   Hatchback   \n",
       "46021    77000      Petrol             1300  Assembly     Local       Sedan   \n",
       "\n",
       "      Transmission Type Registration Status  \n",
       "0             Automatic       Un-Registered  \n",
       "1             Automatic          Registered  \n",
       "2             Automatic       Un-Registered  \n",
       "3                Manual          Registered  \n",
       "4                Manual          Registered  \n",
       "...                 ...                 ...  \n",
       "46017         Automatic       Un-Registered  \n",
       "46018         Automatic       Un-Registered  \n",
       "46019         Automatic          Registered  \n",
       "46020         Automatic          Registered  \n",
       "46021         Automatic          Registered  \n",
       "\n",
       "[46022 rows x 14 columns]"
      ]
     },
     "execution_count": 3,
     "metadata": {},
     "output_type": "execute_result"
    }
   ],
   "source": [
    "data = pd.read_csv(r\"C:\\Users\\solat\\Downloads\\Clean Data_pakwheels.csv\\Clean Data_pakwheels.csv\")\n",
    "data\n"
   ]
  },
  {
   "cell_type": "code",
   "execution_count": 4,
   "metadata": {},
   "outputs": [
    {
     "data": {
      "text/plain": [
       "Index(['Unnamed: 0', 'Company Name', 'Model Name', 'Price', 'Model Year',\n",
       "       'Location', 'Mileage', 'Engine Type', 'Engine Capacity', 'Color',\n",
       "       'Assembly', 'Body Type', 'Transmission Type', 'Registration Status'],\n",
       "      dtype='object')"
      ]
     },
     "execution_count": 4,
     "metadata": {},
     "output_type": "execute_result"
    }
   ],
   "source": [
    "data.columns"
   ]
  },
  {
   "cell_type": "code",
   "execution_count": 5,
   "metadata": {},
   "outputs": [],
   "source": [
    "data.drop(\"Unnamed: 0\",axis=1,inplace=True)"
   ]
  },
  {
   "cell_type": "code",
   "execution_count": 6,
   "metadata": {},
   "outputs": [
    {
     "data": {
      "text/html": [
       "<div>\n",
       "<style scoped>\n",
       "    .dataframe tbody tr th:only-of-type {\n",
       "        vertical-align: middle;\n",
       "    }\n",
       "\n",
       "    .dataframe tbody tr th {\n",
       "        vertical-align: top;\n",
       "    }\n",
       "\n",
       "    .dataframe thead th {\n",
       "        text-align: right;\n",
       "    }\n",
       "</style>\n",
       "<table border=\"1\" class=\"dataframe\">\n",
       "  <thead>\n",
       "    <tr style=\"text-align: right;\">\n",
       "      <th></th>\n",
       "      <th>Company Name</th>\n",
       "      <th>Model Name</th>\n",
       "      <th>Price</th>\n",
       "      <th>Model Year</th>\n",
       "      <th>Location</th>\n",
       "      <th>Mileage</th>\n",
       "      <th>Engine Type</th>\n",
       "      <th>Engine Capacity</th>\n",
       "      <th>Color</th>\n",
       "      <th>Assembly</th>\n",
       "      <th>Body Type</th>\n",
       "      <th>Transmission Type</th>\n",
       "      <th>Registration Status</th>\n",
       "    </tr>\n",
       "  </thead>\n",
       "  <tbody>\n",
       "    <tr>\n",
       "      <th>0</th>\n",
       "      <td>Toyota</td>\n",
       "      <td>Vitz</td>\n",
       "      <td>2385000</td>\n",
       "      <td>2017</td>\n",
       "      <td>Islamabad</td>\n",
       "      <td>9869</td>\n",
       "      <td>Petrol</td>\n",
       "      <td>1000</td>\n",
       "      <td>Silver</td>\n",
       "      <td>Imported</td>\n",
       "      <td>Hatchback</td>\n",
       "      <td>Automatic</td>\n",
       "      <td>Un-Registered</td>\n",
       "    </tr>\n",
       "    <tr>\n",
       "      <th>1</th>\n",
       "      <td>Toyota</td>\n",
       "      <td>Corolla</td>\n",
       "      <td>111000</td>\n",
       "      <td>2019</td>\n",
       "      <td>KPK</td>\n",
       "      <td>11111</td>\n",
       "      <td>Petrol</td>\n",
       "      <td>1300</td>\n",
       "      <td>White</td>\n",
       "      <td>Local</td>\n",
       "      <td>Sedan</td>\n",
       "      <td>Automatic</td>\n",
       "      <td>Registered</td>\n",
       "    </tr>\n",
       "    <tr>\n",
       "      <th>2</th>\n",
       "      <td>Suzuki</td>\n",
       "      <td>Alto</td>\n",
       "      <td>1530000</td>\n",
       "      <td>2019</td>\n",
       "      <td>KPK</td>\n",
       "      <td>17500</td>\n",
       "      <td>Petrol</td>\n",
       "      <td>660</td>\n",
       "      <td>White</td>\n",
       "      <td>Local</td>\n",
       "      <td>Hatchback</td>\n",
       "      <td>Automatic</td>\n",
       "      <td>Un-Registered</td>\n",
       "    </tr>\n",
       "    <tr>\n",
       "      <th>3</th>\n",
       "      <td>Suzuki</td>\n",
       "      <td>Alto</td>\n",
       "      <td>1650000</td>\n",
       "      <td>2019</td>\n",
       "      <td>Punjab</td>\n",
       "      <td>9600</td>\n",
       "      <td>Petrol</td>\n",
       "      <td>660</td>\n",
       "      <td>White</td>\n",
       "      <td>Local</td>\n",
       "      <td>Hatchback</td>\n",
       "      <td>Manual</td>\n",
       "      <td>Registered</td>\n",
       "    </tr>\n",
       "    <tr>\n",
       "      <th>4</th>\n",
       "      <td>Toyota</td>\n",
       "      <td>Corolla</td>\n",
       "      <td>1435000</td>\n",
       "      <td>2010</td>\n",
       "      <td>Islamabad</td>\n",
       "      <td>120000</td>\n",
       "      <td>Petrol</td>\n",
       "      <td>1300</td>\n",
       "      <td>Black</td>\n",
       "      <td>Local</td>\n",
       "      <td>Sedan</td>\n",
       "      <td>Manual</td>\n",
       "      <td>Registered</td>\n",
       "    </tr>\n",
       "  </tbody>\n",
       "</table>\n",
       "</div>"
      ],
      "text/plain": [
       "  Company Name Model Name    Price  Model Year   Location  Mileage  \\\n",
       "0       Toyota       Vitz  2385000        2017  Islamabad     9869   \n",
       "1       Toyota    Corolla   111000        2019        KPK    11111   \n",
       "2       Suzuki       Alto  1530000        2019        KPK    17500   \n",
       "3       Suzuki       Alto  1650000        2019     Punjab     9600   \n",
       "4       Toyota    Corolla  1435000        2010  Islamabad   120000   \n",
       "\n",
       "  Engine Type  Engine Capacity   Color  Assembly  Body Type Transmission Type  \\\n",
       "0      Petrol             1000  Silver  Imported  Hatchback         Automatic   \n",
       "1      Petrol             1300   White     Local      Sedan         Automatic   \n",
       "2      Petrol              660   White     Local  Hatchback         Automatic   \n",
       "3      Petrol              660   White     Local  Hatchback            Manual   \n",
       "4      Petrol             1300   Black     Local      Sedan            Manual   \n",
       "\n",
       "  Registration Status  \n",
       "0       Un-Registered  \n",
       "1          Registered  \n",
       "2       Un-Registered  \n",
       "3          Registered  \n",
       "4          Registered  "
      ]
     },
     "execution_count": 6,
     "metadata": {},
     "output_type": "execute_result"
    }
   ],
   "source": [
    "data.head()"
   ]
  },
  {
   "cell_type": "code",
   "execution_count": 7,
   "metadata": {},
   "outputs": [
    {
     "data": {
      "text/plain": [
       "Company Name           0\n",
       "Model Name             0\n",
       "Price                  0\n",
       "Model Year             0\n",
       "Location               0\n",
       "Mileage                0\n",
       "Engine Type            0\n",
       "Engine Capacity        0\n",
       "Color                  0\n",
       "Assembly               0\n",
       "Body Type              0\n",
       "Transmission Type      0\n",
       "Registration Status    0\n",
       "dtype: int64"
      ]
     },
     "execution_count": 7,
     "metadata": {},
     "output_type": "execute_result"
    }
   ],
   "source": [
    "data.isna().sum()"
   ]
  },
  {
   "cell_type": "code",
   "execution_count": 8,
   "metadata": {},
   "outputs": [
    {
     "data": {
      "text/plain": [
       "['company_name',\n",
       " 'model_name',\n",
       " 'price',\n",
       " 'model_year',\n",
       " 'location',\n",
       " 'mileage',\n",
       " 'engine_type',\n",
       " 'engine_capacity',\n",
       " 'color',\n",
       " 'assembly',\n",
       " 'body_type',\n",
       " 'transmission_type',\n",
       " 'registration_status']"
      ]
     },
     "execution_count": 8,
     "metadata": {},
     "output_type": "execute_result"
    }
   ],
   "source": [
    "col_ = []\n",
    "for col in data.columns:\n",
    "    cols = col.lower().replace(\" \", \"_\")\n",
    "    col_.append(cols)\n",
    "col_"
   ]
  },
  {
   "cell_type": "code",
   "execution_count": 9,
   "metadata": {},
   "outputs": [],
   "source": [
    "data.columns = col_"
   ]
  },
  {
   "cell_type": "code",
   "execution_count": 12,
   "metadata": {},
   "outputs": [
    {
     "data": {
      "text/plain": [
       "Index(['company_name', 'model_name', 'price', 'model_year', 'location',\n",
       "       'mileage', 'engine_type', 'engine_capacity', 'color', 'assembly',\n",
       "       'body_type', 'transmission_type', 'registration_status'],\n",
       "      dtype='object')"
      ]
     },
     "execution_count": 12,
     "metadata": {},
     "output_type": "execute_result"
    }
   ],
   "source": [
    "data.columns"
   ]
  },
  {
   "cell_type": "code",
   "execution_count": null,
   "metadata": {},
   "outputs": [],
   "source": []
  },
  {
   "cell_type": "code",
   "execution_count": 24,
   "metadata": {},
   "outputs": [
    {
     "data": {
      "text/plain": [
       "Index(['company_name', 'model_name', 'location', 'engine_type', 'color',\n",
       "       'assembly', 'body_type', 'transmission_type', 'registration_status'],\n",
       "      dtype='object')"
      ]
     },
     "execution_count": 24,
     "metadata": {},
     "output_type": "execute_result"
    }
   ],
   "source": [
    "cat_cols = data.dtypes[data.dtypes == \"O\"].index\n",
    "cat_cols"
   ]
  },
  {
   "cell_type": "code",
   "execution_count": 27,
   "metadata": {},
   "outputs": [
    {
     "data": {
      "text/plain": [
       "Index(['price', 'model_year', 'mileage', 'engine_capacity'], dtype='object')"
      ]
     },
     "execution_count": 27,
     "metadata": {},
     "output_type": "execute_result"
    }
   ],
   "source": [
    "num_cols = data.dtypes[data.dtypes != \"O\"].index\n",
    "num_cols"
   ]
  },
  {
   "cell_type": "code",
   "execution_count": 31,
   "metadata": {},
   "outputs": [
    {
     "data": {
      "text/plain": [
       "True"
      ]
     },
     "execution_count": 31,
     "metadata": {},
     "output_type": "execute_result"
    }
   ],
   "source": [
    "\n",
    "pd.api.types.is_string_dtype(data[\"company_name\"])"
   ]
  },
  {
   "cell_type": "code",
   "execution_count": 34,
   "metadata": {},
   "outputs": [
    {
     "data": {
      "text/plain": [
       "['company_name varchar(50)',\n",
       " 'model_name varchar(50)',\n",
       " 'price int',\n",
       " 'model_year int',\n",
       " 'location varchar(50)',\n",
       " 'mileage int',\n",
       " 'engine_type varchar(50)',\n",
       " 'engine_capacity int',\n",
       " 'color varchar(50)',\n",
       " 'assembly varchar(50)',\n",
       " 'body_type varchar(50)',\n",
       " 'transmission_type varchar(50)',\n",
       " 'registration_status varchar(50)']"
      ]
     },
     "execution_count": 34,
     "metadata": {},
     "output_type": "execute_result"
    }
   ],
   "source": [
    "# we have two data types in dataset, thus we can write if else to create sql_table\n",
    "def get_sql_table():\n",
    "\n",
    "    final_col = []\n",
    "    for key, val in data.items():\n",
    "        if pd.api.types.is_string_dtype(val):\n",
    "            cat_col_name = key + \" varchar(50)\"\n",
    "            final_col.append(cat_col_name)\n",
    "        else:\n",
    "            num_col_name = key + \" int\"\n",
    "            final_col.append(num_col_name)\n",
    "\n",
    "    return final_col\n",
    "\n",
    "get_sql_table()\n"
   ]
  },
  {
   "cell_type": "code",
   "execution_count": null,
   "metadata": {},
   "outputs": [],
   "source": [
    "mydb = conn.connect(\n",
    "    host = \"localhost\",\n",
    "    user = \"root\",\n",
    "    password = \"password\"\n",
    ")\n",
    "\n",
    "cur = mydb.cursor()\n",
    "cur.execute(\"show databases\")\n",
    "cur.fetchall()"
   ]
  },
  {
   "cell_type": "code",
   "execution_count": 64,
   "metadata": {},
   "outputs": [
    {
     "data": {
      "text/plain": [
       "['company_name varchar(50)',\n",
       " 'model_name varchar(50)',\n",
       " 'price int',\n",
       " 'model_year int',\n",
       " 'location varchar(50)',\n",
       " 'mileage int',\n",
       " 'engine_type varchar(50)',\n",
       " 'engine_capacity int',\n",
       " 'color varchar(50)',\n",
       " 'assembly varchar(50)',\n",
       " 'body_type varchar(50)',\n",
       " 'transmission_type varchar(50)',\n",
       " 'registration_status varchar(50)']"
      ]
     },
     "execution_count": 64,
     "metadata": {},
     "output_type": "execute_result"
    }
   ],
   "source": [
    "list_of_col = get_sql_table()\n",
    "list_of_col"
   ]
  },
  {
   "cell_type": "code",
   "execution_count": 89,
   "metadata": {},
   "outputs": [
    {
     "data": {
      "text/plain": [
       "['company_name varchar(50),',\n",
       " 'model_name varchar(50),',\n",
       " 'price int,',\n",
       " 'model_year int,',\n",
       " 'location varchar(50),',\n",
       " 'mileage int,',\n",
       " 'engine_type varchar(50),',\n",
       " 'engine_capacity int,',\n",
       " 'color varchar(50),',\n",
       " 'assembly varchar(50),',\n",
       " 'body_type varchar(50),',\n",
       " 'transmission_type varchar(50),',\n",
       " 'registration_status varchar(50)']"
      ]
     },
     "execution_count": 89,
     "metadata": {},
     "output_type": "execute_result"
    }
   ],
   "source": [
    "comma_col = [list_of_col[i] + \",\" for i in range(len(list_of_col)-1)]\n",
    "comma_col.append(list_of_col[-1])\n",
    "comma_col"
   ]
  },
  {
   "cell_type": "code",
   "execution_count": 91,
   "metadata": {},
   "outputs": [
    {
     "data": {
      "text/plain": [
       "'create table if not exists car_data (company_name varchar(50), model_name varchar(50), price int, model_year int, location varchar(50), mileage int, engine_type varchar(50), engine_capacity int, color varchar(50), assembly varchar(50), body_type varchar(50), transmission_type varchar(50), registration_status varchar(50))'"
      ]
     },
     "execution_count": 91,
     "metadata": {},
     "output_type": "execute_result"
    }
   ],
   "source": [
    "single_quote = ' '.join(comma_col)\n",
    "table_data = f\"({single_quote})\"\n",
    "cr_table = 'create table if not exists car_data'\n",
    "table_tmp = cr_table + \" \" + table_data\n",
    "table_tmp\n",
    "# table_data"
   ]
  },
  {
   "cell_type": "code",
   "execution_count": 93,
   "metadata": {},
   "outputs": [
    {
     "data": {
      "text/plain": [
       "[]"
      ]
     },
     "execution_count": 93,
     "metadata": {},
     "output_type": "execute_result"
    }
   ],
   "source": [
    "cur.execute(\"use car\")\n",
    "\n",
    "table = table_tmp\n",
    "cur.execute(table)\n",
    "cur.execute(\"select * from car_data\")\n",
    "cur.fetchall()\n"
   ]
  },
  {
   "cell_type": "code",
   "execution_count": 101,
   "metadata": {},
   "outputs": [
    {
     "data": {
      "text/plain": [
       "46022"
      ]
     },
     "execution_count": 101,
     "metadata": {},
     "output_type": "execute_result"
    }
   ],
   "source": [
    "url_object = URL.create(\n",
    "    \"mysql\",\n",
    "    username=\"root\",\n",
    "    password=\"password\",\n",
    "    database=\"car\"\n",
    ")\n",
    "\n",
    "engine = create_engine(url_object)\n",
    "data.to_sql('car_data', engine,if_exists=\"append\",index=False)"
   ]
  },
  {
   "cell_type": "code",
   "execution_count": null,
   "metadata": {},
   "outputs": [],
   "source": [
    "cur.execute('select * from car_data')\n",
    "# print(cur.fetchall())"
   ]
  }
 ],
 "metadata": {
  "kernelspec": {
   "display_name": "base",
   "language": "python",
   "name": "python3"
  },
  "language_info": {
   "codemirror_mode": {
    "name": "ipython",
    "version": 3
   },
   "file_extension": ".py",
   "mimetype": "text/x-python",
   "name": "python",
   "nbconvert_exporter": "python",
   "pygments_lexer": "ipython3",
   "version": "3.9.18"
  }
 },
 "nbformat": 4,
 "nbformat_minor": 2
}
